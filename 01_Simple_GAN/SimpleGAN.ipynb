{
 "cells": [
  {
   "cell_type": "code",
   "execution_count": 17,
   "metadata": {},
   "outputs": [],
   "source": [
    "import torch\n",
    "import torch.nn as nn\n",
    "import torch.optim as optim\n",
    "import torchvision\n",
    "import torchvision.datasets as datasets\n",
    "from torch.utils.data import DataLoader\n",
    "import torchvision.transforms as transforms\n",
    "from torch.utils.tensorboard import SummaryWriter"
   ]
  },
  {
   "attachments": {},
   "cell_type": "markdown",
   "metadata": {},
   "source": [
    "Define discriminator class"
   ]
  },
  {
   "cell_type": "code",
   "execution_count": 18,
   "metadata": {},
   "outputs": [],
   "source": [
    "class Discriminator(nn.Module):\n",
    "    def __init__(self, in_features):\n",
    "        super().__init__()\n",
    "        self.disc = nn.Sequential(\n",
    "            nn.Linear(in_features, 128),\n",
    "            nn.LeakyReLU(0.1),\n",
    "            nn.Linear(128, 1),\n",
    "            nn.Sigmoid(),\n",
    "        )\n",
    "\n",
    "    def forward(self, x):\n",
    "        return self.disc(x)"
   ]
  },
  {
   "attachments": {},
   "cell_type": "markdown",
   "metadata": {},
   "source": [
    "Define generator class"
   ]
  },
  {
   "cell_type": "code",
   "execution_count": 19,
   "metadata": {},
   "outputs": [],
   "source": [
    "class Generator(nn.Module):\n",
    "    def __init__(self, z_dim, img_dim):\n",
    "        super().__init__()\n",
    "        self.gen = nn.Sequential(\n",
    "            nn.Linear(z_dim, 256),\n",
    "            nn.LeakyReLU(0.1),\n",
    "            nn.Linear(256, img_dim),\n",
    "            nn.Tanh(),\n",
    "        )\n",
    "\n",
    "    def forward(self, x):\n",
    "        return self.gen(x)"
   ]
  },
  {
   "attachments": {},
   "cell_type": "markdown",
   "metadata": {},
   "source": [
    "Set hyper parameters"
   ]
  },
  {
   "cell_type": "code",
   "execution_count": 20,
   "metadata": {},
   "outputs": [],
   "source": [
    "device = \"cuda\" if torch.cuda.is_available() else \"cpu\"\n",
    "lr = 3e-4\n",
    "z_dim = 64\n",
    "image_dim = 28 * 28 * 1\n",
    "batch_size = 32\n",
    "num_epochs = 50"
   ]
  },
  {
   "attachments": {},
   "cell_type": "markdown",
   "metadata": {},
   "source": [
    "Create discriminator and generator instances"
   ]
  },
  {
   "cell_type": "code",
   "execution_count": 21,
   "metadata": {},
   "outputs": [],
   "source": [
    "disc = Discriminator(image_dim).to(device)\n",
    "gen = Generator(z_dim, image_dim).to(device)"
   ]
  },
  {
   "attachments": {},
   "cell_type": "markdown",
   "metadata": {},
   "source": [
    "Preparing dataset"
   ]
  },
  {
   "cell_type": "code",
   "execution_count": 22,
   "metadata": {},
   "outputs": [],
   "source": [
    "# Fixed noise to see how it has changed across the epochs\n",
    "fixed_noise = torch.randn((batch_size, z_dim)).to(device)\n",
    "transforms = transforms.Compose(\n",
    "    [transforms.ToTensor(), transforms.Normalize((0.5,), (0.5,))]    \n",
    ")\n",
    "dataset = datasets.MNIST(root=\"dataset/\", transform=transforms, download=True)\n",
    "loader = DataLoader(dataset, batch_size=batch_size, shuffle=True)"
   ]
  },
  {
   "attachments": {},
   "cell_type": "markdown",
   "metadata": {},
   "source": [
    "Set optimizers for the discriminator and generator"
   ]
  },
  {
   "cell_type": "code",
   "execution_count": 23,
   "metadata": {},
   "outputs": [],
   "source": [
    "opt_disc = optim.Adam(disc.parameters(), lr=lr)\n",
    "opt_gen = optim.Adam(gen.parameters(), lr=lr)"
   ]
  },
  {
   "attachments": {},
   "cell_type": "markdown",
   "metadata": {},
   "source": [
    "Loss function"
   ]
  },
  {
   "cell_type": "code",
   "execution_count": 24,
   "metadata": {},
   "outputs": [],
   "source": [
    "criterion = nn.BCELoss()\n",
    "# For tensorboard\n",
    "writer_fake = SummaryWriter(f\"runs/GAN_MNIST/fake\")\n",
    "writer_real = SummaryWriter(f\"runs/GAN_MINST/real\")\n",
    "step = 0"
   ]
  },
  {
   "attachments": {},
   "cell_type": "markdown",
   "metadata": {},
   "source": [
    "Training loop"
   ]
  },
  {
   "cell_type": "code",
   "execution_count": 25,
   "metadata": {},
   "outputs": [
    {
     "name": "stdout",
     "output_type": "stream",
     "text": [
      "Epoch: [0/50]Loss D:  0.7146, Loss G:  0.6605\n",
      "Epoch: [1/50]Loss D:  0.6426, Loss G:  0.9203\n",
      "Epoch: [2/50]Loss D:  0.5099, Loss G:  1.0493\n",
      "Epoch: [3/50]Loss D:  0.6296, Loss G:  0.7889\n",
      "Epoch: [4/50]Loss D:  0.4742, Loss G:  1.0969\n",
      "Epoch: [5/50]Loss D:  0.4355, Loss G:  1.1889\n",
      "Epoch: [6/50]Loss D:  0.7352, Loss G:  0.8020\n",
      "Epoch: [7/50]Loss D:  0.6037, Loss G:  0.9161\n",
      "Epoch: [8/50]Loss D:  0.4775, Loss G:  1.2056\n",
      "Epoch: [9/50]Loss D:  0.4674, Loss G:  1.3637\n",
      "Epoch: [10/50]Loss D:  0.5985, Loss G:  1.1166\n",
      "Epoch: [11/50]Loss D:  0.3602, Loss G:  1.4793\n",
      "Epoch: [12/50]Loss D:  0.6442, Loss G:  0.9487\n",
      "Epoch: [13/50]Loss D:  0.8125, Loss G:  0.8827\n",
      "Epoch: [14/50]Loss D:  0.5606, Loss G:  1.2232\n",
      "Epoch: [15/50]Loss D:  0.6147, Loss G:  1.6517\n",
      "Epoch: [16/50]Loss D:  0.6455, Loss G:  1.5277\n",
      "Epoch: [17/50]Loss D:  0.6503, Loss G:  0.9969\n",
      "Epoch: [18/50]Loss D:  0.5759, Loss G:  1.0751\n",
      "Epoch: [19/50]Loss D:  0.5927, Loss G:  1.1048\n",
      "Epoch: [20/50]Loss D:  0.7123, Loss G:  0.9129\n",
      "Epoch: [21/50]Loss D:  0.7133, Loss G:  0.8935\n",
      "Epoch: [22/50]Loss D:  0.6271, Loss G:  0.9766\n",
      "Epoch: [23/50]Loss D:  0.6318, Loss G:  0.9281\n",
      "Epoch: [24/50]Loss D:  0.8682, Loss G:  0.8667\n",
      "Epoch: [25/50]Loss D:  0.8298, Loss G:  0.8430\n",
      "Epoch: [26/50]Loss D:  0.5924, Loss G:  1.2126\n",
      "Epoch: [27/50]Loss D:  0.6532, Loss G:  1.0327\n",
      "Epoch: [28/50]Loss D:  0.6703, Loss G:  0.8181\n",
      "Epoch: [29/50]Loss D:  0.7034, Loss G:  0.9225\n",
      "Epoch: [30/50]Loss D:  0.8461, Loss G:  0.8327\n",
      "Epoch: [31/50]Loss D:  0.7290, Loss G:  0.7788\n",
      "Epoch: [32/50]Loss D:  0.6763, Loss G:  0.9928\n",
      "Epoch: [33/50]Loss D:  0.6181, Loss G:  1.1286\n",
      "Epoch: [34/50]Loss D:  0.5398, Loss G:  1.0727\n",
      "Epoch: [35/50]Loss D:  0.6516, Loss G:  0.8609\n",
      "Epoch: [36/50]Loss D:  0.6887, Loss G:  1.0415\n",
      "Epoch: [37/50]Loss D:  0.7722, Loss G:  0.7660\n",
      "Epoch: [38/50]Loss D:  0.6426, Loss G:  0.8157\n",
      "Epoch: [39/50]Loss D:  0.7125, Loss G:  0.9608\n",
      "Epoch: [40/50]Loss D:  0.6125, Loss G:  1.0461\n",
      "Epoch: [41/50]Loss D:  0.5650, Loss G:  0.9839\n",
      "Epoch: [42/50]Loss D:  0.7262, Loss G:  0.8151\n",
      "Epoch: [43/50]Loss D:  0.5656, Loss G:  0.9078\n",
      "Epoch: [44/50]Loss D:  0.7627, Loss G:  0.9089\n",
      "Epoch: [45/50]Loss D:  0.6489, Loss G:  1.0022\n",
      "Epoch: [46/50]Loss D:  0.5578, Loss G:  0.9772\n",
      "Epoch: [47/50]Loss D:  0.7563, Loss G:  0.9791\n",
      "Epoch: [48/50]Loss D:  0.6985, Loss G:  0.8545\n",
      "Epoch: [49/50]Loss D:  0.7143, Loss G:  0.8168\n"
     ]
    }
   ],
   "source": [
    "for epoch in range(num_epochs):\n",
    "    for batch_idx, (real, _) in enumerate(loader):\n",
    "        real = real.view(-1, 784).to(device)\n",
    "        batch_size = real.shape[0]\n",
    "\n",
    "        ## Train Discriminator: max log(D(real)) + log(1 - D(G(z))\n",
    "        noise = torch.randn(batch_size, z_dim).to(device)\n",
    "        fake = gen(noise)\n",
    "        disc_real = disc(real).view(-1)\n",
    "        lossD_real = criterion(disc_real, torch.ones_like(disc_real))\n",
    "        disc_fake= disc(fake).view(-1)\n",
    "        lossD_fake = criterion(disc_fake, torch.zeros_like(disc_fake))\n",
    "        lossD = (lossD_real + lossD_fake) / 2\n",
    "        disc.zero_grad()\n",
    "        lossD.backward(retain_graph=True)\n",
    "        opt_disc.step()\n",
    "\n",
    "        ## Train Generator: min log(1 - D(G(z))) <--> leads to saturating gradients <--> max log(D(G(z)))\n",
    "        output = disc(fake).view(-1)\n",
    "        lossG = criterion(output, torch.ones_like(output))\n",
    "        gen.zero_grad()\n",
    "        lossG.backward()\n",
    "        opt_gen.step()\n",
    "\n",
    "        # To visualize outputs on Tensorboard\n",
    "        if batch_idx == 0:\n",
    "            print(\n",
    "                f\"Epoch: [{epoch}/{num_epochs}]\"\n",
    "                f\"Loss D: {lossD: .4f}, Loss G: {lossG: .4f}\"\n",
    "            )\n",
    "            with torch.no_grad():\n",
    "                fake = gen(fixed_noise).reshape(-1, 1, 28, 28)\n",
    "                data = real.reshape(-1, 1, 28, 28)\n",
    "                img_grid_fake = torchvision.utils.make_grid(fake, normalize=True)\n",
    "                img_grid_real = torchvision.utils.make_grid(real, normalize=True)\n",
    "                \n",
    "                writer_fake.add_image(\n",
    "                    \"MNIST Fake Images\", img_grid_fake, global_step=step\n",
    "                )\n",
    "\n",
    "                writer_real.add_image(\n",
    "                    \"MNIST Real Images\", img_grid_real, global_step=step\n",
    "                )\n",
    "\n",
    "                step += 1"
   ]
  },
  {
   "attachments": {},
   "cell_type": "markdown",
   "metadata": {},
   "source": [
    "Things to try to get better results:\n",
    "1. Use larger network\n",
    "2. Bettter normalization with BatchNorm\n",
    "3. Different learning rate\n",
    "4. Change architecture to a CNN"
   ]
  }
 ],
 "metadata": {
  "kernelspec": {
   "display_name": "appliedProject",
   "language": "python",
   "name": "python3"
  },
  "language_info": {
   "codemirror_mode": {
    "name": "ipython",
    "version": 3
   },
   "file_extension": ".py",
   "mimetype": "text/x-python",
   "name": "python",
   "nbconvert_exporter": "python",
   "pygments_lexer": "ipython3",
   "version": "3.8.18"
  },
  "orig_nbformat": 4
 },
 "nbformat": 4,
 "nbformat_minor": 2
}
